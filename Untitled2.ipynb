{
  "nbformat": 4,
  "nbformat_minor": 0,
  "metadata": {
    "colab": {
      "name": "Untitled2.ipynb",
      "provenance": [],
      "authorship_tag": "ABX9TyOVF2tyjEr2AMZ77Gfuw2Oa",
      "include_colab_link": true
    },
    "kernelspec": {
      "name": "python3",
      "display_name": "Python 3"
    }
  },
  "cells": [
    {
      "cell_type": "markdown",
      "metadata": {
        "id": "view-in-github",
        "colab_type": "text"
      },
      "source": [
        "<a href=\"https://colab.research.google.com/github/19PA1A0553/PYTHON-BASICS/blob/master/Untitled2.ipynb\" target=\"_parent\"><img src=\"https://colab.research.google.com/assets/colab-badge.svg\" alt=\"Open In Colab\"/></a>"
      ]
    },
    {
      "cell_type": "code",
      "metadata": {
        "id": "0PfGvHt-ItvO",
        "colab_type": "code",
        "colab": {
          "base_uri": "https://localhost:8080/",
          "height": 102
        },
        "outputId": "723920a9-8a8c-4513-96a1-8e4b6aeb9b37"
      },
      "source": [
        "import pandas as pd\n",
        "a=pd.Series([1,2,3,4],index=['aa','bb','cc','dd'])\n",
        "print(a)"
      ],
      "execution_count": 18,
      "outputs": [
        {
          "output_type": "stream",
          "text": [
            "aa    1\n",
            "bb    2\n",
            "cc    3\n",
            "dd    4\n",
            "dtype: int64\n"
          ],
          "name": "stdout"
        }
      ]
    },
    {
      "cell_type": "code",
      "metadata": {
        "id": "p9c6Sw9qJfsd",
        "colab_type": "code",
        "colab": {
          "base_uri": "https://localhost:8080/",
          "height": 85
        },
        "outputId": "37d8042b-af28-4b12-f01f-9b45f12bcf1f"
      },
      "source": [
        "import pandas as pd\n",
        "df=pd.DataFrame([['cse','ram',1],['cse','syam',2],['cse','har',2]],columns=['branch','name','roll n.o'])\n",
        "df['sizes']=pd.Series([1,2,3])\n",
        "print(df)"
      ],
      "execution_count": 19,
      "outputs": [
        {
          "output_type": "stream",
          "text": [
            "  branch  name  roll n.o  sizes\n",
            "0    cse   ram         1      1\n",
            "1    cse  syam         2      2\n",
            "2    cse   har         2      3\n"
          ],
          "name": "stdout"
        }
      ]
    },
    {
      "cell_type": "code",
      "metadata": {
        "id": "rNskdit7M7mZ",
        "colab_type": "code",
        "colab": {
          "base_uri": "https://localhost:8080/",
          "height": 204
        },
        "outputId": "c0cd8cf9-3b73-42fd-8051-8b7b5de383d1"
      },
      "source": [
        "import pandas as pd\n",
        "df=pd.DataFrame([[1,2,3,],[1,2,3],[1,2,3]],columns=['chem','math','scie'])\n",
        "print(df)\n",
        "del df[\"chem\"]\n",
        "print(df)\n",
        "print(df[0:2])"
      ],
      "execution_count": 22,
      "outputs": [
        {
          "output_type": "stream",
          "text": [
            "   chem  math  scie\n",
            "0     1     2     3\n",
            "1     1     2     3\n",
            "2     1     2     3\n",
            "   math  scie\n",
            "0     2     3\n",
            "1     2     3\n",
            "2     2     3\n",
            "   math  scie\n",
            "0     2     3\n",
            "1     2     3\n"
          ],
          "name": "stdout"
        }
      ]
    },
    {
      "cell_type": "code",
      "metadata": {
        "id": "PWHfEKGMT28m",
        "colab_type": "code",
        "colab": {
          "base_uri": "https://localhost:8080/",
          "height": 85
        },
        "outputId": "303d68a6-6120-4eb4-f2a5-0388ca179d73"
      },
      "source": [
        "import pandas as pd\n",
        "df=pd.DataFrame({\"roll no\":[\"cse501\",\"cse502\",\"cse503\"],\"Name\":[\"A.RAMU\",\"B.RAMYA\",\"B.SUBBU\"],\"Marks\":[100,99,95]})\n",
        "print(df.T)"
      ],
      "execution_count": 25,
      "outputs": [
        {
          "output_type": "stream",
          "text": [
            "              0        1        2\n",
            "roll no  cse501   cse502   cse503\n",
            "Name     A.RAMU  B.RAMYA  B.SUBBU\n",
            "Marks       100       99       95\n"
          ],
          "name": "stdout"
        }
      ]
    },
    {
      "cell_type": "code",
      "metadata": {
        "id": "RQ675hAFJo0l",
        "colab_type": "code",
        "colab": {
          "base_uri": "https://localhost:8080/",
          "height": 136
        },
        "outputId": "6dbe830a-4985-48c3-e987-eb5ca798cd04"
      },
      "source": [
        "import pandas as pd\n",
        "def math_fun(x):\n",
        "  return(x**3)\n",
        "df= pd.DataFrame({\"age\":[19,20,21,21,23,25],\"Height\":[165,163,170,176,175,150],\"weight\":[70,65,66,59,65,70]})\n",
        "df\n",
        "print(df.apply(math_fun))"
      ],
      "execution_count": 27,
      "outputs": [
        {
          "output_type": "stream",
          "text": [
            "     age   Height  weight\n",
            "0   6859  4492125  343000\n",
            "1   8000  4330747  274625\n",
            "2   9261  4913000  287496\n",
            "3   9261  5451776  205379\n",
            "4  12167  5359375  274625\n",
            "5  15625  3375000  343000\n"
          ],
          "name": "stdout"
        }
      ]
    },
    {
      "cell_type": "code",
      "metadata": {
        "id": "n7FnN8IfXBSX",
        "colab_type": "code",
        "colab": {}
      },
      "source": [
        ""
      ],
      "execution_count": 0,
      "outputs": []
    }
  ]
}